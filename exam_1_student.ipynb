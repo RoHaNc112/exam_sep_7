{
 "cells": [
  {
   "cell_type": "markdown",
   "metadata": {},
   "source": [
    "# Exam R\n",
    "Mark Klik & Misja Mikkers\n",
    "\n",
    "# Introduction\n",
    "\n",
    "Before you turn this problem in, make sure everything runs as expected. First, **restart the kernel** (in the menubar, select Kernel$\\rightarrow$Restart) and then **run all cells** (in the menubar, select Cell$\\rightarrow$Run All).\n",
    "\n",
    "Make sure you fill in any place that says `YOUR CODE HERE` or \"YOUR ANSWER HERE\", as well as your name and collaborators below:\n",
    "\n"
   ]
  },
  {
   "cell_type": "code",
   "execution_count": 1,
   "metadata": {},
   "outputs": [],
   "source": [
    "NAME = \"Rohan Chatterjee, 2008264\"\n",
    "COLLABORATORS = \"\""
   ]
  },
  {
   "cell_type": "markdown",
   "metadata": {},
   "source": [
    "Fill in the cell above to provide us with your name and student number, like\n",
    "\n",
    "NAME = \"Adam Smith, #student number#\"\n",
    "\n",
    "where you replace \"#student number#\" with your ... (very good!)\n",
    "\n",
    "Unfortunately, you are not allowed to work with \"COLLABORATORS\" in this exam.\n",
    "\n",
    "## exam September 7th, 2018\n",
    "\n",
    "With this R part of the exam you can earn at max. 4 points.\n",
    "\n",
    "In the first cell of the notebook, give us your name and student number in the way indicated above.\n",
    "\n",
    "Fill in the notebook (see below for code cells and text cells that you need to fill in).\n",
    "\n",
    "If you look at the menus above (File, Edit, View etc.), there is one called \"Cell\". If you click on this, you can change the \"Cell Type\". Choose \"Code\" when you are typing python or R code. Choose \"Markdown\" when you are typing, well, markdown.\n",
    "\n",
    "When you finish the notebook, make sure that you save it with the output of your code included.\n",
    "\n",
    "Then put it on github, e.g. by dragging it onto github (see instructions below).\n",
    "\n",
    "Finally, add a link to your README file with the name of this exam: \"Exam R September 7, 2018\".\n",
    "\n",
    "# Packages\n",
    "\n",
    "You will need the following packages for this exam."
   ]
  },
  {
   "cell_type": "code",
   "execution_count": 2,
   "metadata": {},
   "outputs": [
    {
     "name": "stderr",
     "output_type": "stream",
     "text": [
      "Installing package into 'C:/Users/rohan/Documents/R/win-library/3.5'\n",
      "(as 'lib' is unspecified)\n"
     ]
    },
    {
     "name": "stdout",
     "output_type": "stream",
     "text": [
      "package 'gvlma' successfully unpacked and MD5 sums checked\n",
      "\n",
      "The downloaded binary packages are in\n",
      "\tC:\\Users\\rohan\\AppData\\Local\\Temp\\RtmpeUiM7K\\downloaded_packages\n"
     ]
    },
    {
     "name": "stderr",
     "output_type": "stream",
     "text": [
      "Warning message:\n",
      "\"package 'tidyverse' was built under R version 3.5.1\"-- Attaching packages --------------------------------------- tidyverse 1.2.1 --\n",
      "v ggplot2 3.0.0     v purrr   0.2.5\n",
      "v tibble  1.4.2     v dplyr   0.7.6\n",
      "v tidyr   0.8.1     v stringr 1.3.1\n",
      "v readr   1.1.1     v forcats 0.3.0\n",
      "Warning message:\n",
      "\"package 'ggplot2' was built under R version 3.5.1\"Warning message:\n",
      "\"package 'tibble' was built under R version 3.5.1\"Warning message:\n",
      "\"package 'tidyr' was built under R version 3.5.1\"Warning message:\n",
      "\"package 'readr' was built under R version 3.5.1\"Warning message:\n",
      "\"package 'purrr' was built under R version 3.5.1\"Warning message:\n",
      "\"package 'dplyr' was built under R version 3.5.1\"Warning message:\n",
      "\"package 'stringr' was built under R version 3.5.1\"Warning message:\n",
      "\"package 'forcats' was built under R version 3.5.1\"-- Conflicts ------------------------------------------ tidyverse_conflicts() --\n",
      "x dplyr::filter() masks stats::filter()\n",
      "x dplyr::lag()    masks stats::lag()\n"
     ]
    }
   ],
   "source": [
    "install.packages('gvlma')# installing package as it was not in my laptop previously\n",
    "library(tidyverse)\n",
    "library(gvlma)"
   ]
  },
  {
   "cell_type": "markdown",
   "metadata": {},
   "source": [
    "# Assignment 1\n",
    "\n",
    "## Data\n",
    "\n",
    "Please read in \"advertising.csv\" and check the structure.\n",
    "\n",
    "If needed change the variables TV and sales into a numeric variable.\n",
    "\n",
    "Hint: don't forget you cannot change a factor in a numeric variable directly!\n",
    "\n"
   ]
  },
  {
   "cell_type": "code",
   "execution_count": 3,
   "metadata": {},
   "outputs": [
    {
     "name": "stderr",
     "output_type": "stream",
     "text": [
      "Using ',' as decimal and '.' as grouping mark. Use read_delim() for more control.\n",
      "Parsed with column specification:\n",
      "cols(\n",
      "  Observation = col_integer(),\n",
      "  TV = col_character(),\n",
      "  radio = col_character(),\n",
      "  newspaper = col_character(),\n",
      "  sales = col_number()\n",
      ")\n"
     ]
    },
    {
     "data": {
      "text/html": [
       "<table>\n",
       "<thead><tr><th scope=col>Observation</th><th scope=col>TV</th><th scope=col>radio</th><th scope=col>newspaper</th><th scope=col>sales</th></tr></thead>\n",
       "<tbody>\n",
       "\t<tr><td>1    </td><td>230.1</td><td>37.8 </td><td>69.2 </td><td>221  </td></tr>\n",
       "\t<tr><td>2    </td><td>44.5 </td><td>39.3 </td><td>45.1 </td><td>104  </td></tr>\n",
       "\t<tr><td>3    </td><td>17.2 </td><td>45.9 </td><td>69.3 </td><td> 93  </td></tr>\n",
       "\t<tr><td>4    </td><td>151.5</td><td>41.3 </td><td>58.5 </td><td>185  </td></tr>\n",
       "\t<tr><td>5    </td><td>180.8</td><td>10.8 </td><td>58.4 </td><td>129  </td></tr>\n",
       "\t<tr><td>6    </td><td>8.7  </td><td>48.9 </td><td>75   </td><td> 72  </td></tr>\n",
       "</tbody>\n",
       "</table>\n"
      ],
      "text/latex": [
       "\\begin{tabular}{r|lllll}\n",
       " Observation & TV & radio & newspaper & sales\\\\\n",
       "\\hline\n",
       "\t 1     & 230.1 & 37.8  & 69.2  & 221  \\\\\n",
       "\t 2     & 44.5  & 39.3  & 45.1  & 104  \\\\\n",
       "\t 3     & 17.2  & 45.9  & 69.3  &  93  \\\\\n",
       "\t 4     & 151.5 & 41.3  & 58.5  & 185  \\\\\n",
       "\t 5     & 180.8 & 10.8  & 58.4  & 129  \\\\\n",
       "\t 6     & 8.7   & 48.9  & 75    &  72  \\\\\n",
       "\\end{tabular}\n"
      ],
      "text/markdown": [
       "\n",
       "Observation | TV | radio | newspaper | sales | \n",
       "|---|---|---|---|---|---|\n",
       "| 1     | 230.1 | 37.8  | 69.2  | 221   | \n",
       "| 2     | 44.5  | 39.3  | 45.1  | 104   | \n",
       "| 3     | 17.2  | 45.9  | 69.3  |  93   | \n",
       "| 4     | 151.5 | 41.3  | 58.5  | 185   | \n",
       "| 5     | 180.8 | 10.8  | 58.4  | 129   | \n",
       "| 6     | 8.7   | 48.9  | 75    |  72   | \n",
       "\n",
       "\n"
      ],
      "text/plain": [
       "  Observation TV    radio newspaper sales\n",
       "1 1           230.1 37.8  69.2      221  \n",
       "2 2           44.5  39.3  45.1      104  \n",
       "3 3           17.2  45.9  69.3       93  \n",
       "4 4           151.5 41.3  58.5      185  \n",
       "5 5           180.8 10.8  58.4      129  \n",
       "6 6           8.7   48.9  75         72  "
      ]
     },
     "metadata": {},
     "output_type": "display_data"
    },
    {
     "name": "stdout",
     "output_type": "stream",
     "text": [
      "Classes 'tbl_df', 'tbl' and 'data.frame':\t200 obs. of  5 variables:\n",
      " $ Observation: int  1 2 3 4 5 6 7 8 9 10 ...\n",
      " $ TV         : chr  \"230.1\" \"44.5\" \"17.2\" \"151.5\" ...\n",
      " $ radio      : chr  \"37.8\" \"39.3\" \"45.9\" \"41.3\" ...\n",
      " $ newspaper  : chr  \"69.2\" \"45.1\" \"69.3\" \"58.5\" ...\n",
      " $ sales      : num  221 104 93 185 129 72 118 132 48 106 ...\n",
      " - attr(*, \"spec\")=List of 2\n",
      "  ..$ cols   :List of 5\n",
      "  .. ..$ Observation: list()\n",
      "  .. .. ..- attr(*, \"class\")= chr  \"collector_integer\" \"collector\"\n",
      "  .. ..$ TV         : list()\n",
      "  .. .. ..- attr(*, \"class\")= chr  \"collector_character\" \"collector\"\n",
      "  .. ..$ radio      : list()\n",
      "  .. .. ..- attr(*, \"class\")= chr  \"collector_character\" \"collector\"\n",
      "  .. ..$ newspaper  : list()\n",
      "  .. .. ..- attr(*, \"class\")= chr  \"collector_character\" \"collector\"\n",
      "  .. ..$ sales      : list()\n",
      "  .. .. ..- attr(*, \"class\")= chr  \"collector_number\" \"collector\"\n",
      "  ..$ default: list()\n",
      "  .. ..- attr(*, \"class\")= chr  \"collector_guess\" \"collector\"\n",
      "  ..- attr(*, \"class\")= chr \"col_spec\"\n"
     ]
    }
   ],
   "source": [
    "advt <- read_csv2('../Downloads/Advertising(2).csv')\n",
    "head(advt)\n",
    "str(advt)"
   ]
  },
  {
   "cell_type": "code",
   "execution_count": 4,
   "metadata": {},
   "outputs": [
    {
     "name": "stdout",
     "output_type": "stream",
     "text": [
      "Classes 'tbl_df', 'tbl' and 'data.frame':\t200 obs. of  5 variables:\n",
      " $ Observation: int  1 2 3 4 5 6 7 8 9 10 ...\n",
      " $ TV         : num  230.1 44.5 17.2 151.5 180.8 ...\n",
      " $ radio      : num  37.8 39.3 45.9 41.3 10.8 48.9 32.8 19.6 2.1 2.6 ...\n",
      " $ newspaper  : num  69.2 45.1 69.3 58.5 58.4 75 23.5 11.6 1 21.2 ...\n",
      " $ sales      : num  221 104 93 185 129 72 118 132 48 106 ...\n",
      " - attr(*, \"spec\")=List of 2\n",
      "  ..$ cols   :List of 5\n",
      "  .. ..$ Observation: list()\n",
      "  .. .. ..- attr(*, \"class\")= chr  \"collector_integer\" \"collector\"\n",
      "  .. ..$ TV         : list()\n",
      "  .. .. ..- attr(*, \"class\")= chr  \"collector_character\" \"collector\"\n",
      "  .. ..$ radio      : list()\n",
      "  .. .. ..- attr(*, \"class\")= chr  \"collector_character\" \"collector\"\n",
      "  .. ..$ newspaper  : list()\n",
      "  .. .. ..- attr(*, \"class\")= chr  \"collector_character\" \"collector\"\n",
      "  .. ..$ sales      : list()\n",
      "  .. .. ..- attr(*, \"class\")= chr  \"collector_number\" \"collector\"\n",
      "  ..$ default: list()\n",
      "  .. ..- attr(*, \"class\")= chr  \"collector_guess\" \"collector\"\n",
      "  ..- attr(*, \"class\")= chr \"col_spec\"\n"
     ]
    }
   ],
   "source": [
    "advt$TV<- as.numeric(advt$TV)\n",
    "advt$radio<- as.numeric(advt$radio)\n",
    "advt$newspaper<- as.numeric(advt$newspaper)# changed all the character variable to numerics. There were no factor variables in the data.\n",
    "str(advt) # checking new structure\n"
   ]
  },
  {
   "cell_type": "markdown",
   "metadata": {},
   "source": [
    "\n",
    "\n",
    "## Regression \n",
    "\n",
    "You will now have to run a regression with sales as a function of TV. Show the summary statistics and check if the assumptions of linear regression are met (hint: use package gvlma)."
   ]
  },
  {
   "cell_type": "code",
   "execution_count": 5,
   "metadata": {
    "scrolled": true
   },
   "outputs": [
    {
     "data": {},
     "metadata": {},
     "output_type": "display_data"
    },
    {
     "data": {
      "image/png": "[encoded data removed]",
      "text/plain": [
       "plot without title"
      ]
     },
     "metadata": {},
     "output_type": "display_data"
    }
   ],
   "source": [
    "ggplot(advt,aes(TV,sales))+ geom_point()+geom_smooth(method='lm',se=F)+ xlab('TV') + ylab('Sales')\n"
   ]
  },
  {
   "cell_type": "code",
   "execution_count": 9,
   "metadata": {},
   "outputs": [
    {
     "data": {
      "text/plain": [
       "\n",
       "Call:\n",
       "lm(formula = sales ~ TV, data = advt)\n",
       "\n",
       "Coefficients:\n",
       "(Intercept)           TV  \n",
       "    64.4831       0.4365  \n"
      ]
     },
     "metadata": {},
     "output_type": "display_data"
    },
    {
     "data": {
      "text/plain": [
       "\n",
       "Call:\n",
       "lm(formula = sales ~ TV, data = advt)\n",
       "\n",
       "Coefficients:\n",
       "(Intercept)           TV  \n",
       "    64.4831       0.4365  \n",
       "\n",
       "\n",
       "ASSESSMENT OF THE LINEAR MODEL ASSUMPTIONS\n",
       "USING THE GLOBAL TEST ON 4 DEGREES-OF-FREEDOM:\n",
       "Level of Significance =  0.05 \n",
       "\n",
       "Call:\n",
       " gvlma(x = regression) \n",
       "\n",
       "                     Value   p-value                   Decision\n",
       "Global Stat        79.1764 2.220e-16 Assumptions NOT satisfied!\n",
       "Skewness           44.7411 2.249e-11 Assumptions NOT satisfied!\n",
       "Kurtosis           33.4174 7.436e-09 Assumptions NOT satisfied!\n",
       "Link Function       0.3855 5.347e-01    Assumptions acceptable.\n",
       "Heteroscedasticity  0.6324 4.265e-01    Assumptions acceptable."
      ]
     },
     "metadata": {},
     "output_type": "display_data"
    }
   ],
   "source": [
    "regression <- lm(data = advt, sales ~ TV)\n",
    "regression # showing regression of Sales(the y variable) as a function of TV(the x variable)\n",
    "gvlma(regression)#checking if regression assumptions are met"
   ]
  },
  {
   "cell_type": "code",
   "execution_count": 7,
   "metadata": {},
   "outputs": [],
   "source": [
    "#We can see that many assumptions have not been satisfied."
   ]
  },
  {
   "cell_type": "markdown",
   "metadata": {},
   "source": [
    "## Plot\n",
    "\n",
    "Now you have to make a scatter plot of the data:\n",
    "\n",
    "* with TV on the x-axis\n",
    "* sales on the y-axis\n",
    "* the regression line in green, with confidence interval\n",
    "* in a light theme\n"
   ]
  },
  {
   "cell_type": "code",
   "execution_count": 8,
   "metadata": {},
   "outputs": [
    {
     "data": {},
     "metadata": {},
     "output_type": "display_data"
    },
    {
     "data": {
      "image/png": "[encoded data removed]",
      "text/plain": [
       "plot without title"
      ]
     },
     "metadata": {},
     "output_type": "display_data"
    }
   ],
   "source": [
    "ggplot(advt,aes(TV,sales))+ geom_point()+geom_smooth(color='green',method='lm',se=T)+ xlab('TV') + ylab('Sales')+theme_light()"
   ]
  },
  {
   "cell_type": "markdown",
   "metadata": {},
   "source": [
    "End of notebook"
   ]
  }
 ],
 "metadata": {
  "anaconda-cloud": {},
  "kernelspec": {
   "display_name": "R",
   "language": "R",
   "name": "ir"
  },
  "language_info": {
   "codemirror_mode": "r",
   "file_extension": ".r",
   "mimetype": "text/x-r-source",
   "name": "R",
   "pygments_lexer": "r",
   "version": "3.5.0"
  }
 },
 "nbformat": 4,
 "nbformat_minor": 1
}
